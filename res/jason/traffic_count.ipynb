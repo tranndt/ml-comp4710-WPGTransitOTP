{
 "cells": [
  {
   "cell_type": "code",
   "execution_count": null,
   "metadata": {},
   "outputs": [],
   "source": []
  },
  {
   "cell_type": "markdown",
   "metadata": {},
   "source": [
    "# Bus Stop On-Time Performance VS Traffic Count\n"
   ]
  },
  {
   "cell_type": "code",
   "execution_count": null,
   "metadata": {},
   "outputs": [],
   "source": [
    "from math import radians, cos, sin, asin, sqrt\n",
    "def distance(pt1: tuple[float, float], pt2: tuple[float, float]) -> float:\n",
    "# Convert from degrees to radians.\n",
    "    lat1 = radians(pt1[0])\n",
    "    lon1 = radians(pt1[1])\n",
    "    lat2 = radians(pt2[0])\n",
    "    lon2 = radians(pt2[1])\n",
    "    # Haversine formula\n",
    "    dlon = lon2 - lon1\n",
    "    dlat = lat2 - lat1\n",
    "    a = sin(dlat / 2)**2 + cos(lat1) * cos(lat2) * sin(dlon / 2)**2\n",
    "    c = 2 * asin(sqrt(a))\n",
    "    # Radius of earth in kilometers. Use 3956 for miles\n",
    "    r = 6378100\n",
    "    # calculate the result\n",
    "    return(c * r)"
   ]
  },
  {
   "cell_type": "code",
   "execution_count": null,
   "metadata": {},
   "outputs": [],
   "source": [
    "def calculateWeight(stop: tuple[float, float], trafficCounts: dict) -> tuple[float, str]:\n",
    "    '''\n",
    "    Calculate the aggregated weight across all traffic count stations of given point from given traffic counts\n",
    "\n",
    "    Arguments:\n",
    "        stop: a coordinate.\n",
    "        trafficCounts: a dict with traffic counts from stations. It has the station name as the key and the traffic count as value. Example: {\"Pembina\" : 233}.\n",
    "\n",
    "    Returns:\n",
    "        A tuple with the calculated aggregated weight and the most weighted traffic count station name.\n",
    "    '''\n",
    "    ret = 0.0\n",
    "    maxStation = \"\"\n",
    "    maxStationWeight = 0.0\n",
    "    for station, stationCoords in STATIONS:\n",
    "        # TODO: tune the weight formula\n",
    "        weight = trafficCounts[station] / distance(stop, stationCoords)\n",
    "        ret += weight\n",
    "        if (weight > maxStationWeight):\n",
    "            maxStation = station\n",
    "            maxStationWeight = weight\n",
    "\n",
    "    return (ret, maxStation)"
   ]
  },
  {
   "cell_type": "markdown",
   "metadata": {},
   "source": [
    "threshold = 666\n",
    "\n",
    "- For each time period:\n",
    "    - For each stop:\n",
    "      ```python\n",
    "        stop = calculateWeight(stop, trafficCountsForThatTime)\n",
    "        if (stopWeight[0] >= threshold):\n",
    "          drawStopWithWeightAndMostWeightedStation(stop)\n",
    "      ```\n",
    "      "
   ]
  },
  {
   "cell_type": "code",
   "execution_count": null,
   "metadata": {},
   "outputs": [],
   "source": [
    "radius = 666\n",
    "validStops = []\n",
    "\n"
   ]
  }
 ],
 "metadata": {
  "interpreter": {
   "hash": "8d1ece6a382781c7c9a74e0bee6bba9f669cec736bd65ae4e50b3c9f0e557ed6"
  },
  "kernelspec": {
   "display_name": "Python 3.9.6 64-bit ('venv': venv)",
   "language": "python",
   "name": "python3"
  },
  "language_info": {
   "codemirror_mode": {
    "name": "ipython",
    "version": 3
   },
   "file_extension": ".py",
   "mimetype": "text/x-python",
   "name": "python",
   "nbconvert_exporter": "python",
   "pygments_lexer": "ipython3",
   "version": "3.9.6"
  },
  "orig_nbformat": 4
 },
 "nbformat": 4,
 "nbformat_minor": 2
}
