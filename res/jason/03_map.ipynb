{
 "cells": [
  {
   "cell_type": "code",
   "execution_count": null,
   "metadata": {},
   "outputs": [],
   "source": [
    "import pandas as pd\n",
    "import numpy as np\n",
    "import matplotlib.pyplot as plt\n",
    "from matplotlib import cm,colors\n",
    "import seaborn as sns\n",
    "from myutils.utils import *"
   ]
  },
  {
   "cell_type": "code",
   "execution_count": null,
   "metadata": {},
   "outputs": [],
   "source": [
    "import folium\n",
    "from branca.element import Figure\n",
    "import IPython.display as display\n",
    "from PIL import Image\n",
    "WINNIPEG = [49.88366050119829, -97.14581222292078]"
   ]
  },
  {
   "cell_type": "code",
   "execution_count": null,
   "metadata": {},
   "outputs": [],
   "source": [
    "LANE_CLOSURE = import_data(\"LANE_CLOSURE\")\n",
    "LANE_CLOSURE"
   ]
  },
  {
   "cell_type": "code",
   "execution_count": null,
   "metadata": {},
   "outputs": [],
   "source": [
    "STOPS = import_data(\"STOPS\")\n",
    "STOPS"
   ]
  },
  {
   "cell_type": "code",
   "execution_count": null,
   "metadata": {},
   "outputs": [],
   "source": [
    "SITES = import_data(\"SITES\")\n",
    "SITES"
   ]
  },
  {
   "cell_type": "code",
   "execution_count": null,
   "metadata": {},
   "outputs": [],
   "source": [
    "fig=Figure(height=1050,width=1250)\n",
    "m=folium.Map(location=WINNIPEG,tiles='cartodbpositron',zoom_start=12)\n",
    "fig.add_child(m)\n",
    "\n",
    "# Plotting Traffic count sites\n",
    "f1=folium.FeatureGroup(\"Traffic Count Sites\")\n",
    "for i in SITES.index:\n",
    "    site = SITES.loc[i]\n",
    "    folium.Marker(location=list(site[[\"Lat\",\"Long\"]]),tooltip=f'{site[\"Street\"]}',popup=f\"{site['Site']}\",icon=folium.Icon(color=\"red\")).add_to(f1)\n",
    "f1.add_to(m)\n",
    "\n",
    "# Plotting Bus stops\n",
    "f2=folium.FeatureGroup(\"Bus stops\")\n",
    "for j in STOPS.index:\n",
    "    stop = STOPS.loc[j]\n",
    "    folium.Circle(radius=4, location=list(stop[[\"Lat\",\"Long\"]]),tooltip=f'{stop[\"Stop Number\"]}',popup=f\"{stop['Stop Name']}\",color=\"#3ea6d6\",fill=True).add_to(f2)\n",
    "f2.add_to(m)\n",
    "\n",
    "# Plotting Road closure\n",
    "color = {\"Yes\":\"red\",\"No\":\"orange\"}\n",
    "f3=folium.FeatureGroup(\"Road closure\")\n",
    "for j in LANE_CLOSURE.index:\n",
    "    lane = LANE_CLOSURE.iloc[j]\n",
    "    for i in range(len(lane[\"Geometry\"])):\n",
    "        line_1=folium.vector_layers.PolyLine(lane[\"Geometry\"][i],popup=f'<b>Direction:</b> {\", \".join(lane[\"Direction\"])}',tooltip=f'{lane[\"Street\"]}',color=color[lane[\"Complete Closure\"]],weight=4).add_to(f3)\n",
    "f3.add_to(m)\n",
    "folium.LayerControl().add_to(m)\n",
    "m"
   ]
  },
  {
   "cell_type": "code",
   "execution_count": null,
   "metadata": {},
   "outputs": [],
   "source": [
    "# display.display(Image.open('plots/overview.png'))"
   ]
  },
  {
   "cell_type": "code",
   "execution_count": null,
   "metadata": {},
   "outputs": [],
   "source": [
    "# display.display(Image.open('plots/close_up.png'))"
   ]
  },
  {
   "cell_type": "code",
   "execution_count": null,
   "metadata": {},
   "outputs": [],
   "source": [
    "ROAD_NETWORK = import_data(\"ROAD_NETWORK\")\n",
    "ROAD_NETWORK[\"Number of Lanes\"] = ROAD_NETWORK[\"Number of Lanes\"].fillna(0).astype(int)\n",
    "ROAD_NETWORK"
   ]
  },
  {
   "cell_type": "code",
   "execution_count": null,
   "metadata": {},
   "outputs": [],
   "source": [
    "# - One-way values are as follows:\n",
    "# 0 – The street is a two-way street\n",
    "# 1 – The one-way direction is opposite the digitized direction\n",
    "# 2 – The one-way direction is the same as the digitized direction"
   ]
  },
  {
   "cell_type": "code",
   "execution_count": null,
   "metadata": {},
   "outputs": [],
   "source": [
    "# cmap = cm.get_cmap(\"coolwarm\",6)\n",
    "# color=colors.rgb2hex(cmap(road[\"Number of Lanes\"]))"
   ]
  },
  {
   "cell_type": "code",
   "execution_count": null,
   "metadata": {},
   "outputs": [],
   "source": [
    "fig=Figure(height=1050,width=1250)\n",
    "# fig=Figure(height=750,width=900)\n",
    "\n",
    "m=folium.Map(location=WINNIPEG,tiles='cartodbpositron',zoom_start=12)\n",
    "# folium.TileLayer('cartodbdark_matter').add_to(m)\n",
    "fig.add_child(m)\n",
    "\n",
    "color = {50:\"grey\",0:\"lightblue\",1:\"#ffaf87\",2:\"#ffaf87\"}\n",
    "f3=folium.FeatureGroup(\"Road Network\")\n",
    "for j in ROAD_NETWORK.index:\n",
    "    road = ROAD_NETWORK.loc[j]\n",
    "    folium.vector_layers.PolyLine(road[\"Location\"],popup=f'<b>Number of Lanes</b> {road[\"Number of Lanes\"]}',tooltip=f'{road[\"Street\"]}',color=color[road[\"Oneway\"]],weight=3).add_to(f3)\n",
    "f3.add_to(m)\n",
    "folium.LayerControl().add_to(m)\n",
    "m"
   ]
  },
  {
   "cell_type": "code",
   "execution_count": null,
   "metadata": {},
   "outputs": [],
   "source": [
    "# display.display(Image.open('plots/road_network.jpg'))"
   ]
  },
  {
   "cell_type": "code",
   "execution_count": null,
   "metadata": {},
   "outputs": [],
   "source": [
    "num_colors = 12\n",
    "cmap = cm.get_cmap(\"rainbow\",num_colors)\n",
    "cmap"
   ]
  },
  {
   "cell_type": "code",
   "execution_count": null,
   "metadata": {},
   "outputs": [],
   "source": [
    "fig=Figure(height=750,width=900)\n",
    "m=folium.Map(location=WINNIPEG,tiles='cartodbpositron',zoom_start=12)\n",
    "fig.add_child(m)\n",
    "\n",
    "# Plotting Traffic count sites\n",
    "f1=folium.FeatureGroup(\"Traffic Count Sites\")\n",
    "for i in SITES.index:\n",
    "    site = SITES.loc[i]\n",
    "    folium.Marker(location=list(site[[\"Lat\",\"Long\"]]),tooltip=f'{site[\"Street\"]}',popup=f\"{site['Site']}\",icon=folium.Icon(color=\"red\")).add_to(f1)\n",
    "f1.add_to(m)\n",
    "\n",
    "# Plotting Bus stops\n",
    "f2=folium.FeatureGroup(\"Bus stops\")\n",
    "for j in STOPS.index:\n",
    "    stop = STOPS.loc[j]\n",
    "    folium.Circle(radius=4, location=list(stop[[\"Lat\",\"Long\"]]),tooltip=f'{stop[\"Stop Number\"]}',popup=f\"{stop['Stop Name']}\",color=\"#3ea6d6\",fill=True).add_to(f2)\n",
    "f2.add_to(m)\n",
    "\n",
    "# Plotting Road closure\n",
    "color = {\"Yes\":\"red\",\"No\":\"orange\"}\n",
    "f3=folium.FeatureGroup(\"Road closure\")\n",
    "for j in LANE_CLOSURE.index:\n",
    "    lane = LANE_CLOSURE.iloc[j]\n",
    "    col=colors.rgb2hex(cmap(int(lane.name)%num_colors))\n",
    "    # folium.Marker(location=list(lane[[\"Lat\",\"Long\"]]),tooltip=f'{site[\"Street\"]}',popup=f\"{site['Site']}\",icon=folium.Icon(color=col)).add_to(f3)\n",
    "    folium.Circle(radius=10,location=list(lane[[\"Lat\",\"Long\"]]),tooltip=f'{int(lane.name)}',popup=f\"{col}\",color=col, fill =True).add_to(f3)\n",
    "    for i in range(len(lane[\"Geometry\"])):\n",
    "        for k in range(len(lane[\"Geometry\"][i])):\n",
    "            folium.Circle(radius=5,location=list(lane[\"Geometry\"][i][k]),tooltip=f'{int(lane.name)}',popup=f\"{col}\",color=col).add_to(f3)\n",
    "        line_1=folium.vector_layers.PolyLine(lane[\"Geometry\"][i],popup=f'<b>Direction:</b> {\", \".join(lane[\"Direction\"])}',tooltip=f'{lane[\"Street\"]}',color=col,weight=4).add_to(f3)\n",
    "f3.add_to(m)\n",
    "folium.LayerControl().add_to(m)\n",
    "# m.add_child(folium.LatLngPopup())\n",
    "# m.add_child(folium.ClickForMarker(popup=\"Waypoint\"))\n",
    "\n",
    "m"
   ]
  },
  {
   "cell_type": "markdown",
   "metadata": {},
   "source": [
    "1. Algorithms\n",
    "    - Find the polygon that contains the lane closure segment(s)\n",
    "    - Determine whether a point (bus stop) belongs in a polygon \n",
    "    - Polar coordinates \n",
    "    - Determine directly and indirectly affected bus stops"
   ]
  },
  {
   "cell_type": "code",
   "execution_count": null,
   "metadata": {},
   "outputs": [],
   "source": [
    "# Python 3 program to calculate Distance Between Two Points on Earth, courtesy of https://www.geeksforgeeks.org/program-distance-two-points-earth/\n",
    "from math import radians, cos, sin, asin, sqrt\n",
    "def distance(pt1,pt2):\n",
    "    # Convert from degrees to radians.\n",
    "    lat1 = radians(pt1[0])\n",
    "    lon1 = radians(pt1[1])\n",
    "    lat2 = radians(pt2[0])\n",
    "    lon2 = radians(pt2[1])\n",
    "    # Haversine formula\n",
    "    dlon = lon2 - lon1\n",
    "    dlat = lat2 - lat1\n",
    "    a = sin(dlat / 2)**2 + cos(lat1) * cos(lat2) * sin(dlon / 2)**2\n",
    "    c = 2 * asin(sqrt(a))\n",
    "    # Radius of earth in kilometers. Use 3956 for miles\n",
    "    r = 6378100\n",
    "    # calculate the result\n",
    "    return(c * r)"
   ]
  },
  {
   "cell_type": "code",
   "execution_count": null,
   "metadata": {},
   "outputs": [],
   "source": [
    "s1 = tuple(SITES.iloc[0][[\"Lat\",\"Long\"]])\n",
    "s2 = tuple(SITES.iloc[1][[\"Lat\",\"Long\"]])\n"
   ]
  },
  {
   "cell_type": "code",
   "execution_count": null,
   "metadata": {},
   "outputs": [],
   "source": [
    "distance(s1,s2)"
   ]
  },
  {
   "cell_type": "markdown",
   "metadata": {},
   "source": [
    "To do: \n",
    "1. Convert from meters & angles to coordinates\n",
    "2. How to know which bus stops affected by which route\n",
    "    - Using Polygon. Point in Polygon\n",
    "3. \n",
    "\n"
   ]
  },
  {
   "cell_type": "code",
   "execution_count": null,
   "metadata": {},
   "outputs": [],
   "source": []
  },
  {
   "cell_type": "code",
   "execution_count": null,
   "metadata": {},
   "outputs": [],
   "source": []
  }
 ],
 "metadata": {
  "interpreter": {
   "hash": "9cea0b2ba1d4e863dfb586909f3baf8988d507bc1f42173fc816b8e84176b62f"
  },
  "kernelspec": {
   "display_name": "Python 3.8.10 64-bit ('base': conda)",
   "name": "python3"
  },
  "language_info": {
   "codemirror_mode": {
    "name": "ipython",
    "version": 3
   },
   "file_extension": ".py",
   "mimetype": "text/x-python",
   "name": "python",
   "nbconvert_exporter": "python",
   "pygments_lexer": "ipython3",
   "version": "3.9.6"
  },
  "orig_nbformat": 4
 },
 "nbformat": 4,
 "nbformat_minor": 2
}
